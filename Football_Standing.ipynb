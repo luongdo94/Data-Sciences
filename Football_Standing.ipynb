{
  "nbformat": 4,
  "nbformat_minor": 0,
  "metadata": {
    "colab": {
      "provenance": [],
      "authorship_tag": "ABX9TyN/cOGTMuGlza02d4v2J8NZ",
      "include_colab_link": true
    },
    "kernelspec": {
      "name": "python3",
      "display_name": "Python 3"
    },
    "language_info": {
      "name": "python"
    }
  },
  "cells": [
    {
      "cell_type": "markdown",
      "metadata": {
        "id": "view-in-github",
        "colab_type": "text"
      },
      "source": [
        "<a href=\"https://colab.research.google.com/github/luongdo94/Data-Sciences/blob/main/Football_Standing.ipynb\" target=\"_parent\"><img src=\"https://colab.research.google.com/assets/colab-badge.svg\" alt=\"Open In Colab\"/></a>"
      ]
    },
    {
      "cell_type": "code",
      "source": [
        "# Install the package (if not already installed)\n",
        "# pip install soccer-data-api\n",
        "import pandas as pd\n",
        "from soccer_data_api import SoccerDataAPI\n",
        "\n",
        "# Create an instance of the SoccerDataAPI\n",
        "soccer_data = SoccerDataAPI()\n",
        "\n",
        "# Get Bundesliga standings\n",
        "bundesliga_standings = soccer_data.bundesliga()\n",
        "premierleague = soccer_data.english_premier()\n",
        "print(bundesliga_standings, \"\\n\", premierleague)\n",
        "\n",
        "# df=pd.DataFrame(bundesliga_standings)\n",
        "# df\n",
        "\n"
      ],
      "metadata": {
        "colab": {
          "base_uri": "https://localhost:8080/"
        },
        "id": "dZhGXLy9ux9V",
        "outputId": "1379e36c-2f9f-4b23-cf77-b478b07ef207"
      },
      "execution_count": 7,
      "outputs": [
        {
          "output_type": "stream",
          "name": "stdout",
          "text": [
            "[{'team': 'Leverkusen', 'pos': '1', 'points': '90', 'matches_played': '34', 'wins': '28', 'draws': '28', 'losses': '0', 'goals_for': '89', 'goals_against': '24', 'goal_diff': '+65', 'top_scorer': 'Victor Boniface - 14'}, {'team': 'Stuttgart', 'pos': '2', 'points': '73', 'matches_played': '34', 'wins': '23', 'draws': '23', 'losses': '7', 'goals_for': '78', 'goals_against': '39', 'goal_diff': '+39', 'top_scorer': 'Serhou Guirassy - 28'}, {'team': 'Bayern Munich', 'pos': '3', 'points': '72', 'matches_played': '34', 'wins': '23', 'draws': '23', 'losses': '8', 'goals_for': '94', 'goals_against': '45', 'goal_diff': '+49', 'top_scorer': 'Harry Kane - 36'}, {'team': 'RB Leipzig', 'pos': '4', 'points': '65', 'matches_played': '34', 'wins': '19', 'draws': '19', 'losses': '7', 'goals_for': '77', 'goals_against': '39', 'goal_diff': '+38', 'top_scorer': 'Loïs Openda - 24'}, {'team': 'Dortmund', 'pos': '5', 'points': '63', 'matches_played': '34', 'wins': '18', 'draws': '18', 'losses': '7', 'goals_for': '68', 'goals_against': '43', 'goal_diff': '+25', 'top_scorer': 'Donyell Malen - 13'}, {'team': 'Eint Frankfurt', 'pos': '6', 'points': '47', 'matches_played': '34', 'wins': '11', 'draws': '11', 'losses': '9', 'goals_for': '51', 'goals_against': '50', 'goal_diff': '+1', 'top_scorer': 'Omar Marmoush - 12'}, {'team': 'Hoffenheim', 'pos': '7', 'points': '46', 'matches_played': '34', 'wins': '13', 'draws': '13', 'losses': '14', 'goals_for': '66', 'goals_against': '66', 'goal_diff': '0', 'top_scorer': 'Maximilian Beier - 16'}, {'team': 'Heidenheim', 'pos': '8', 'points': '42', 'matches_played': '34', 'wins': '10', 'draws': '10', 'losses': '12', 'goals_for': '50', 'goals_against': '55', 'goal_diff': '-5', 'top_scorer': 'Tim Kleindienst - 12'}, {'team': 'Werder Bremen', 'pos': '9', 'points': '42', 'matches_played': '34', 'wins': '11', 'draws': '11', 'losses': '14', 'goals_for': '48', 'goals_against': '54', 'goal_diff': '-6', 'top_scorer': 'Marvin Ducksch - 12'}, {'team': 'Freiburg', 'pos': '10', 'points': '42', 'matches_played': '34', 'wins': '11', 'draws': '11', 'losses': '14', 'goals_for': '45', 'goals_against': '58', 'goal_diff': '-13', 'top_scorer': 'Vincenzo Grifo - 8'}, {'team': 'Augsburg', 'pos': '11', 'points': '39', 'matches_played': '34', 'wins': '10', 'draws': '10', 'losses': '15', 'goals_for': '50', 'goals_against': '60', 'goal_diff': '-10', 'top_scorer': 'Ermedin Demirović - 15'}, {'team': 'Wolfsburg', 'pos': '12', 'points': '37', 'matches_played': '34', 'wins': '10', 'draws': '10', 'losses': '17', 'goals_for': '41', 'goals_against': '56', 'goal_diff': '-15', 'top_scorer': 'Jonas Wind - 11'}, {'team': 'Mainz 05', 'pos': '13', 'points': '35', 'matches_played': '34', 'wins': '7', 'draws': '7', 'losses': '13', 'goals_for': '39', 'goals_against': '51', 'goal_diff': '-12', 'top_scorer': 'Jonathan Burkardt - 8'}, {'team': 'Gladbach', 'pos': '14', 'points': '34', 'matches_played': '34', 'wins': '7', 'draws': '7', 'losses': '14', 'goals_for': '56', 'goals_against': '67', 'goal_diff': '-11', 'top_scorer': 'Robin Hack - 10'}, {'team': 'Union Berlin', 'pos': '15', 'points': '33', 'matches_played': '34', 'wins': '9', 'draws': '9', 'losses': '19', 'goals_for': '33', 'goals_against': '58', 'goal_diff': '-25', 'top_scorer': 'Robin Gosens - 6'}, {'team': 'Bochum', 'pos': '16', 'points': '33', 'matches_played': '34', 'wins': '7', 'draws': '7', 'losses': '15', 'goals_for': '42', 'goals_against': '74', 'goal_diff': '-32', 'top_scorer': 'Kevin Stöger - 7'}, {'team': 'Köln', 'pos': '17', 'points': '27', 'matches_played': '34', 'wins': '5', 'draws': '5', 'losses': '17', 'goals_for': '28', 'goals_against': '60', 'goal_diff': '-32', 'top_scorer': 'Davie Selke - 6'}, {'team': 'Darmstadt 98', 'pos': '18', 'points': '17', 'matches_played': '34', 'wins': '3', 'draws': '3', 'losses': '23', 'goals_for': '30', 'goals_against': '86', 'goal_diff': '-56', 'top_scorer': 'Tim Skarke - 8'}] \n",
            " [{'team': 'Manchester City', 'pos': '1', 'points': '91', 'matches_played': '38', 'wins': '28', 'draws': '28', 'losses': '3', 'goals_for': '96', 'goals_against': '34', 'goal_diff': '+62', 'top_scorer': 'Erling Haaland - 27'}, {'team': 'Arsenal', 'pos': '2', 'points': '89', 'matches_played': '38', 'wins': '28', 'draws': '28', 'losses': '5', 'goals_for': '91', 'goals_against': '29', 'goal_diff': '+62', 'top_scorer': 'Bukayo Saka - 16'}, {'team': 'Liverpool', 'pos': '3', 'points': '82', 'matches_played': '38', 'wins': '24', 'draws': '24', 'losses': '4', 'goals_for': '86', 'goals_against': '41', 'goal_diff': '+45', 'top_scorer': 'Mohamed Salah - 18'}, {'team': 'Aston Villa', 'pos': '4', 'points': '68', 'matches_played': '38', 'wins': '20', 'draws': '20', 'losses': '10', 'goals_for': '76', 'goals_against': '61', 'goal_diff': '+15', 'top_scorer': 'Ollie Watkins - 19'}, {'team': 'Tottenham', 'pos': '5', 'points': '66', 'matches_played': '38', 'wins': '20', 'draws': '20', 'losses': '12', 'goals_for': '74', 'goals_against': '61', 'goal_diff': '+13', 'top_scorer': 'Son Heung-min - 17'}, {'team': 'Chelsea', 'pos': '6', 'points': '63', 'matches_played': '38', 'wins': '18', 'draws': '18', 'losses': '11', 'goals_for': '77', 'goals_against': '63', 'goal_diff': '+14', 'top_scorer': 'Cole Palmer - 22'}, {'team': 'Newcastle Utd', 'pos': '7', 'points': '60', 'matches_played': '38', 'wins': '18', 'draws': '18', 'losses': '14', 'goals_for': '85', 'goals_against': '62', 'goal_diff': '+23', 'top_scorer': 'Alexander Isak - 21'}, {'team': 'Manchester Utd', 'pos': '8', 'points': '60', 'matches_played': '38', 'wins': '18', 'draws': '18', 'losses': '14', 'goals_for': '57', 'goals_against': '58', 'goal_diff': '-1', 'top_scorer': 'Rasmus Højlund, Bruno Fernandes - 10'}, {'team': 'West Ham', 'pos': '9', 'points': '52', 'matches_played': '38', 'wins': '14', 'draws': '14', 'losses': '14', 'goals_for': '60', 'goals_against': '74', 'goal_diff': '-14', 'top_scorer': 'Jarrod Bowen - 16'}, {'team': 'Crystal Palace', 'pos': '10', 'points': '49', 'matches_played': '38', 'wins': '13', 'draws': '13', 'losses': '15', 'goals_for': '57', 'goals_against': '58', 'goal_diff': '-1', 'top_scorer': 'Jean-Philippe Mateta - 16'}, {'team': 'Brighton', 'pos': '11', 'points': '48', 'matches_played': '38', 'wins': '12', 'draws': '12', 'losses': '14', 'goals_for': '55', 'goals_against': '62', 'goal_diff': '-7', 'top_scorer': 'João Pedro - 9'}, {'team': 'Bournemouth', 'pos': '12', 'points': '48', 'matches_played': '38', 'wins': '13', 'draws': '13', 'losses': '16', 'goals_for': '54', 'goals_against': '67', 'goal_diff': '-13', 'top_scorer': 'Dominic Solanke - 19'}, {'team': 'Fulham', 'pos': '13', 'points': '47', 'matches_played': '38', 'wins': '13', 'draws': '13', 'losses': '17', 'goals_for': '55', 'goals_against': '61', 'goal_diff': '-6', 'top_scorer': 'Rodrigo Muniz - 9'}, {'team': 'Wolves', 'pos': '14', 'points': '46', 'matches_played': '38', 'wins': '13', 'draws': '13', 'losses': '18', 'goals_for': '50', 'goals_against': '65', 'goal_diff': '-15', 'top_scorer': 'Hwang Hee-chan, Matheus Cunha - 12'}, {'team': 'Everton', 'pos': '15', 'points': '42', 'matches_played': '38', 'wins': '13', 'draws': '13', 'losses': '16', 'goals_for': '40', 'goals_against': '51', 'goal_diff': '-11', 'top_scorer': 'Abdoulaye Doucouré, Dominic Calvert-Lewin - 7'}, {'team': 'Brentford', 'pos': '16', 'points': '39', 'matches_played': '38', 'wins': '10', 'draws': '10', 'losses': '19', 'goals_for': '56', 'goals_against': '65', 'goal_diff': '-9', 'top_scorer': 'Yoane Wissa - 12'}, {'team': \"Nott'ham Forest\", 'pos': '17', 'points': '32', 'matches_played': '38', 'wins': '9', 'draws': '9', 'losses': '20', 'goals_for': '49', 'goals_against': '67', 'goal_diff': '-18', 'top_scorer': 'Chris Wood - 14'}, {'team': 'Luton Town', 'pos': '18', 'points': '26', 'matches_played': '38', 'wins': '6', 'draws': '6', 'losses': '24', 'goals_for': '52', 'goals_against': '85', 'goal_diff': '-33', 'top_scorer': 'Carlton Morris - 11'}, {'team': 'Burnley', 'pos': '19', 'points': '24', 'matches_played': '38', 'wins': '5', 'draws': '5', 'losses': '24', 'goals_for': '41', 'goals_against': '78', 'goal_diff': '-37', 'top_scorer': 'Jacob Bruun Larsen - 6'}, {'team': 'Sheffield Utd', 'pos': '20', 'points': '16', 'matches_played': '38', 'wins': '3', 'draws': '3', 'losses': '28', 'goals_for': '35', 'goals_against': '104', 'goal_diff': '-69', 'top_scorer': 'Oliver McBurnie, Ben Brereton - 6'}]\n"
          ]
        }
      ]
    },
    {
      "cell_type": "code",
      "source": [],
      "metadata": {
        "id": "vLrjycAvwQG9"
      },
      "execution_count": null,
      "outputs": []
    }
  ]
}